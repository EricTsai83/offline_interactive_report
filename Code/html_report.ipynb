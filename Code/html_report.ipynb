{
 "cells": [
  {
   "cell_type": "markdown",
   "id": "cleared-burton",
   "metadata": {},
   "source": [
    "# HTML report"
   ]
  },
  {
   "cell_type": "markdown",
   "id": "structural-vessel",
   "metadata": {},
   "source": [
    ">Object: Make HTML reports with Python, Pandas, and Plotly Graphs."
   ]
  },
  {
   "cell_type": "markdown",
   "id": "going-mattress",
   "metadata": {},
   "source": [
    "## Import Libraries"
   ]
  },
  {
   "cell_type": "code",
   "execution_count": 1,
   "id": "cutting-scottish",
   "metadata": {},
   "outputs": [],
   "source": [
    "import plotly as py\n",
    "import pandas as pd\n",
    "import numpy as np\n",
    "\n",
    "from datetime import datetime\n",
    "from datetime import time as dt_tm\n",
    "from datetime import date as dt_date\n",
    "\n",
    "# from chart_studio.plotly import plot, iplot\n",
    "# from plotly.offline import init_notebook_mode, iplot\n",
    "\n",
    "# import plotly.tools as plotly_tools\n",
    "from plotly.subplots import make_subplots\n",
    "import plotly.graph_objs as go\n",
    "\n",
    "import os\n",
    "import tempfile\n",
    "os.environ['MPLCONFIGDIR'] = tempfile.mkdtemp()\n",
    "\n",
    "import re"
   ]
  },
  {
   "cell_type": "markdown",
   "id": "varied-compatibility",
   "metadata": {},
   "source": [
    "## Create HTML Template"
   ]
  },
  {
   "cell_type": "markdown",
   "id": "opening-alarm",
   "metadata": {},
   "source": [
    "### Load JavaScript Function created by plotly\n",
    "[Reference](https://cdn.plot.ly/plotly-latest.min.js)"
   ]
  },
  {
   "cell_type": "code",
   "execution_count": 2,
   "id": "honest-issue",
   "metadata": {},
   "outputs": [],
   "source": [
    "# with open('./plotly-latest.min.js', 'r') as f:\n",
    "#     js_text = f.read()"
   ]
  },
  {
   "cell_type": "markdown",
   "id": "universal-heating",
   "metadata": {},
   "source": [
    "### Load HTML Code We Need"
   ]
  },
  {
   "cell_type": "code",
   "execution_count": 3,
   "id": "plastic-builder",
   "metadata": {},
   "outputs": [],
   "source": [
    "with open('../Fig/action_count.html', 'r') as f:\n",
    "    action_count = f.read()"
   ]
  },
  {
   "cell_type": "code",
   "execution_count": 4,
   "id": "suspected-arlington",
   "metadata": {},
   "outputs": [],
   "source": [
    "with open('../Fig/Amazon_action_count.html', 'r') as f:\n",
    "    Amazon_action_count = f.read()"
   ]
  },
  {
   "cell_type": "code",
   "execution_count": 5,
   "id": "lightweight-profit",
   "metadata": {},
   "outputs": [],
   "source": [
    "with open('../Fig/taobao_action_count.html', 'r') as f:\n",
    "    taobao_action_count = f.read()"
   ]
  },
  {
   "cell_type": "code",
   "execution_count": 6,
   "id": "recreational-conviction",
   "metadata": {},
   "outputs": [],
   "source": [
    "with open('../Fig/wordcloud.html', 'r') as f:\n",
    "    wordcloud = f.read()"
   ]
  },
  {
   "cell_type": "code",
   "execution_count": 7,
   "id": "asian-invasion",
   "metadata": {},
   "outputs": [],
   "source": [
    "with open('../Fig/interactive_df.html', 'r', encoding='utf8') as f:\n",
    "    interactive_df = f.read()"
   ]
  },
  {
   "cell_type": "code",
   "execution_count": 8,
   "id": "another-quest",
   "metadata": {},
   "outputs": [],
   "source": [
    "with open('../Fig/pivot_demo.html', 'r') as f:\n",
    "    pivot_demo = f.read()"
   ]
  },
  {
   "cell_type": "code",
   "execution_count": 9,
   "id": "objective-phenomenon",
   "metadata": {},
   "outputs": [],
   "source": [
    "with open('../Fig/static_table.html', 'r', encoding='utf8') as f:\n",
    "    static_table = f.read()"
   ]
  },
  {
   "cell_type": "code",
   "execution_count": 10,
   "id": "pretty-viking",
   "metadata": {},
   "outputs": [],
   "source": [
    "with open('../Fig/static_table_with_link.html', 'r', encoding='utf8') as f:\n",
    "    static_table_with_link = f.read()"
   ]
  },
  {
   "cell_type": "code",
   "execution_count": 11,
   "id": "portuguese-quarter",
   "metadata": {},
   "outputs": [],
   "source": [
    "with open('../Fig/muti_graph_demo.html', 'r', encoding='utf8') as f:\n",
    "    muti_graph_demo = f.read()"
   ]
  },
  {
   "cell_type": "code",
   "execution_count": null,
   "id": "indonesian-bunny",
   "metadata": {},
   "outputs": [],
   "source": []
  },
  {
   "cell_type": "markdown",
   "id": "handed-surgery",
   "metadata": {},
   "source": [
    "## My HTML Report Template"
   ]
  },
  {
   "cell_type": "code",
   "execution_count": 12,
   "id": "partial-anime",
   "metadata": {},
   "outputs": [],
   "source": [
    "#         <!-- *** For plotly graph *** --->\n",
    "#         <script>''' + js_text + '''</script>\n",
    "\n",
    "        \n",
    "#         <!-- *** For Interactive Pivot Table *** --->\n",
    "#         <link rel=\"stylesheet\" href=\"https://maxcdn.bootstrapcdn.com/bootstrap/3.3.1/css/bootstrap.min.css\">      "
   ]
  },
  {
   "cell_type": "code",
   "execution_count": 13,
   "id": "heard-reliance",
   "metadata": {},
   "outputs": [],
   "source": [
    "html_string = '''\n",
    "<!doctype html>\n",
    "<html>\n",
    "    <head>\n",
    "        <meta charset=\"UTF-8\">\n",
    "        <title>Dashboard😱</title>\n",
    "        <style>body{ margin:0 100; background:whitesmoke; }</style>\n",
    "\n",
    "    </head>\n",
    "    \n",
    "    <body>\n",
    "        <h1>Web Analytics</h1>\n",
    "\n",
    "        <!-- *** Section 1 *** --->\n",
    "        <h2>Action Count</h2>\n",
    "        ''' + action_count + '''\n",
    "        <p>graph description...</p>\n",
    "        \n",
    "        <!-- *** Section 2 *** --->\n",
    "        <h2>Amazon Action Count</h2>\n",
    "        ''' + Amazon_action_count + '''\n",
    "        <p>graph description...</p>\n",
    "        \n",
    "        <!-- *** Section 3 *** --->\n",
    "        <h2>Taobao Action Count</h2>\n",
    "        ''' + taobao_action_count + '''\n",
    "        <p>graph description...</p>\n",
    "        \n",
    "        <!-- *** Section 4 *** --->\n",
    "        <h2>Muti Graph Demo</h2>        \n",
    "        ''' + muti_graph_demo + '''\n",
    "        <p>graph description...</p>\n",
    "        \n",
    "        <!-- *** Section 5 *** --->\n",
    "        <h2>Search Key Word in Website</h2>\n",
    "        ''' + wordcloud + '''\n",
    " \n",
    "        <!-- *** Section 6 *** --->\n",
    "        <h2>Interactive Table</h2>\n",
    "        ''' + interactive_df + '''\n",
    "        \n",
    "        <!-- *** Section 7 *** --->\n",
    "        <h3>Static Table with Link</h3>\n",
    "        ''' + static_table_with_link + '''\n",
    "        \n",
    "    \n",
    "    </body>\n",
    "</html>'''"
   ]
  },
  {
   "cell_type": "markdown",
   "id": "understanding-clone",
   "metadata": {},
   "source": [
    "1. Table 之間的形式會互相影響\n",
    "2. 目前 interactive_df 和 pivot_demo 的程式碼無法共存，故先不放入Pivot Table"
   ]
  },
  {
   "cell_type": "code",
   "execution_count": 14,
   "id": "greenhouse-equivalent",
   "metadata": {},
   "outputs": [],
   "source": [
    "# <!-- *** Section 6 *** --->\n",
    "# <h3>Static Table</h3>\n",
    "# ''' + static_table + '''\n",
    "\n",
    "# <!-- *** Section 7 *** --->\n",
    "# <h3>Static Table with Link</h3>\n",
    "# ''' + static_table_with_link + '''"
   ]
  },
  {
   "cell_type": "code",
   "execution_count": 15,
   "id": "strategic-conditioning",
   "metadata": {},
   "outputs": [],
   "source": [
    "# <!-- *** Section 8 *** --->\n",
    "# <h2>Pivot Demo</h2>\n",
    "# ''' + pivot_demo + '''"
   ]
  },
  {
   "cell_type": "code",
   "execution_count": 16,
   "id": "relative-control",
   "metadata": {},
   "outputs": [],
   "source": [
    "with open('../Output/report.html', 'w', encoding = 'utf8') as f:\n",
    "    f.write(html_string)"
   ]
  },
  {
   "cell_type": "code",
   "execution_count": null,
   "id": "coral-potential",
   "metadata": {},
   "outputs": [],
   "source": []
  }
 ],
 "metadata": {
  "kernelspec": {
   "display_name": "Python 3",
   "language": "python",
   "name": "python3"
  },
  "language_info": {
   "codemirror_mode": {
    "name": "ipython",
    "version": 3
   },
   "file_extension": ".py",
   "mimetype": "text/x-python",
   "name": "python",
   "nbconvert_exporter": "python",
   "pygments_lexer": "ipython3",
   "version": "3.7.7"
  }
 },
 "nbformat": 4,
 "nbformat_minor": 5
}
