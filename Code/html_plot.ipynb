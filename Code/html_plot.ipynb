{
 "cells": [
  {
   "cell_type": "markdown",
   "id": "sharp-technology",
   "metadata": {},
   "source": [
    "# Graph Plotter"
   ]
  },
  {
   "cell_type": "markdown",
   "id": "broke-spider",
   "metadata": {},
   "source": [
    "<div class=\"alert alert-warning\">\n",
    "  <strong>Note!</strong><br> \n",
    "  All graph created by plotly.\n",
    "</div>"
   ]
  },
  {
   "cell_type": "code",
   "execution_count": 1,
   "id": "lightweight-oregon",
   "metadata": {},
   "outputs": [],
   "source": [
    "# plotly\n",
    "import plotly.graph_objects as go\n",
    "import plotly\n",
    "from plotly.subplots import make_subplots\n",
    "# basic package\n",
    "import pandas as pd\n",
    "import glob\n",
    "import config\n",
    "import numpy as np\n",
    "import re\n",
    "from datetime import date\n",
    "import os\n",
    "import pickle\n",
    "# wordcloud\n",
    "from wordcloud import WordCloud, STOPWORDS, ImageColorGenerator\n",
    "# plot\n",
    "import matplotlib.pyplot as plt\n",
    "from matplotlib.font_manager import FontProperties\n",
    "import base64\n",
    "from io import BytesIO\n",
    "from os import path\n",
    "from PIL import Image\n",
    "# from pivottablejs import pivot_ui\n",
    "from IPython.display import IFrame\n",
    "import json, io\n",
    "# html\n",
    "from IPython.display import HTML"
   ]
  },
  {
   "cell_type": "code",
   "execution_count": 2,
   "id": "eight-fusion",
   "metadata": {},
   "outputs": [],
   "source": [
    "df = pd.read_pickle('../Data/web_lod_data.pkl')"
   ]
  },
  {
   "cell_type": "code",
   "execution_count": 3,
   "id": "hungarian-inspector",
   "metadata": {},
   "outputs": [
    {
     "data": {
      "text/html": [
       "<div>\n",
       "<style scoped>\n",
       "    .dataframe tbody tr th:only-of-type {\n",
       "        vertical-align: middle;\n",
       "    }\n",
       "\n",
       "    .dataframe tbody tr th {\n",
       "        vertical-align: top;\n",
       "    }\n",
       "\n",
       "    .dataframe thead th {\n",
       "        text-align: right;\n",
       "    }\n",
       "</style>\n",
       "<table border=\"1\" class=\"dataframe\">\n",
       "  <thead>\n",
       "    <tr style=\"text-align: right;\">\n",
       "      <th></th>\n",
       "      <th>datetime</th>\n",
       "      <th>website</th>\n",
       "      <th>page_version</th>\n",
       "      <th>actionID</th>\n",
       "    </tr>\n",
       "  </thead>\n",
       "  <tbody>\n",
       "    <tr>\n",
       "      <th>0</th>\n",
       "      <td>2020-01-10</td>\n",
       "      <td>taobao</td>\n",
       "      <td>mobile</td>\n",
       "      <td>9</td>\n",
       "    </tr>\n",
       "    <tr>\n",
       "      <th>1</th>\n",
       "      <td>2020-01-03</td>\n",
       "      <td>Amazon</td>\n",
       "      <td>mobile</td>\n",
       "      <td>2</td>\n",
       "    </tr>\n",
       "    <tr>\n",
       "      <th>2</th>\n",
       "      <td>2020-01-01</td>\n",
       "      <td>Amazon</td>\n",
       "      <td>app</td>\n",
       "      <td>7</td>\n",
       "    </tr>\n",
       "    <tr>\n",
       "      <th>3</th>\n",
       "      <td>2020-01-03</td>\n",
       "      <td>Amazon</td>\n",
       "      <td>app</td>\n",
       "      <td>8</td>\n",
       "    </tr>\n",
       "    <tr>\n",
       "      <th>4</th>\n",
       "      <td>2020-01-07</td>\n",
       "      <td>taobao</td>\n",
       "      <td>app</td>\n",
       "      <td>4</td>\n",
       "    </tr>\n",
       "  </tbody>\n",
       "</table>\n",
       "</div>"
      ],
      "text/plain": [
       "     datetime website page_version actionID\n",
       "0  2020-01-10  taobao       mobile        9\n",
       "1  2020-01-03  Amazon       mobile        2\n",
       "2  2020-01-01  Amazon          app        7\n",
       "3  2020-01-03  Amazon          app        8\n",
       "4  2020-01-07  taobao          app        4"
      ]
     },
     "execution_count": 3,
     "metadata": {},
     "output_type": "execute_result"
    }
   ],
   "source": [
    "df.head()"
   ]
  },
  {
   "cell_type": "markdown",
   "id": "critical-balloon",
   "metadata": {},
   "source": [
    "## Case 1"
   ]
  },
  {
   "cell_type": "code",
   "execution_count": 4,
   "id": "synthetic-ensemble",
   "metadata": {},
   "outputs": [],
   "source": [
    "df_group = df.groupby(['datetime', 'website', 'page_version']).size().reset_index(name='size')\n",
    "df_group = df_group.sort_values(by='datetime')\n",
    "idsite_pageversion_group = df_group.groupby(['website', 'page_version'])\n",
    "idsite_pageversion_group_key = idsite_pageversion_group.groups.keys()"
   ]
  },
  {
   "cell_type": "code",
   "execution_count": 5,
   "id": "amazing-spectrum",
   "metadata": {},
   "outputs": [],
   "source": [
    "all_group_datetime_li = []\n",
    "all_group_action_count_li = []\n",
    "for key in idsite_pageversion_group_key:\n",
    "    group = idsite_pageversion_group.get_group(key)\n",
    "    datetime_li = sorted(list(set(group['datetime'])))\n",
    "    action_count_li = list(group['size'])\n",
    "    all_group_datetime_li.append(datetime_li)\n",
    "    all_group_action_count_li.append(action_count_li)"
   ]
  },
  {
   "cell_type": "code",
   "execution_count": 6,
   "id": "suspended-configuration",
   "metadata": {},
   "outputs": [],
   "source": [
    "group_key_li = list(idsite_pageversion_group_key)\n",
    "idsite_li = [i[0] for i in group_key_li]\n",
    "pageVersion_li = [i[1] for i in group_key_li]"
   ]
  },
  {
   "cell_type": "code",
   "execution_count": 7,
   "id": "capital-academy",
   "metadata": {},
   "outputs": [],
   "source": [
    "li=[]\n",
    "for idsite in ['Amazon', 'taobao']:\n",
    "    li.append(dict(label=str(idsite),\n",
    "                method=\"update\",\n",
    "                args=[{\"visible\": [i== idsite for i in idsite_li]},\n",
    "                      {\"title\": f\"Action Count on {idsite} website\",\n",
    "                       \"annotations\": [],\n",
    "                       \"title_x\": 0.5\n",
    "                      },\n",
    "                     ]\n",
    "               ))"
   ]
  },
  {
   "cell_type": "code",
   "execution_count": 8,
   "id": "adjacent-creek",
   "metadata": {},
   "outputs": [
    {
     "data": {
      "text/plain": [
       "'../Fig/action_count.html'"
      ]
     },
     "execution_count": 8,
     "metadata": {},
     "output_type": "execute_result"
    }
   ],
   "source": [
    "# Initialize figure\n",
    "fig = go.Figure()\n",
    "for datetime, value, idsite, pageVersion in zip(all_group_datetime_li, all_group_action_count_li, idsite_li, pageVersion_li):\n",
    "    if idsite == 'Amazon':\n",
    "        fig.add_trace(\n",
    "            go.Scatter(x=datetime,\n",
    "                       y=value,\n",
    "                       name=pageVersion,\n",
    "#                        line=dict(color=\"#FFA500\"),\n",
    "                       visible=True\n",
    "                      ))\n",
    "        \n",
    "    elif idsite == 'taobao':\n",
    "        fig.add_trace(\n",
    "            go.Scatter(x=datetime,\n",
    "                       y=value,\n",
    "                       name=pageVersion,\n",
    "#                        line=dict(color=\"#33CFA5\"),\n",
    "                       visible=False\n",
    "                      ))\n",
    "\n",
    "\n",
    "fig.update_layout(\n",
    "    updatemenus=[\n",
    "        dict(\n",
    "            active=0,\n",
    "            buttons=list(li),\n",
    "            bordercolor = \"#BEC8D9\",  # default\n",
    "            type=\"buttons\",  # \"dropdown\" \n",
    "            direction=\"down\",\n",
    "            showactive=True, # Highlights active dropdown item or active button if True.    \n",
    "        )\n",
    "    ])   \n",
    "        \n",
    "\n",
    "# Set title\n",
    "fig.update_layout(\n",
    "                 title={\n",
    "        'text': f\"Action Count on {li[0]['label']} website\",\n",
    "        'font':{'size':30}\n",
    "                 })\n",
    "# fig.update_layout(title_font_color=\"#FFA500\")\n",
    "\n",
    "fig.update_layout(title_x=0.5)\n",
    "\n",
    "plotly.offline.plot(fig, auto_open=False, filename=f\"../Fig/action_count.html\")"
   ]
  },
  {
   "cell_type": "markdown",
   "id": "computational-garbage",
   "metadata": {},
   "source": [
    "## Case 2"
   ]
  },
  {
   "cell_type": "code",
   "execution_count": 9,
   "id": "hollywood-motivation",
   "metadata": {},
   "outputs": [],
   "source": [
    "df_group = df.groupby(['datetime', 'website', 'page_version', 'actionID']).size().reset_index(name='action_count')"
   ]
  },
  {
   "cell_type": "code",
   "execution_count": 10,
   "id": "animated-invention",
   "metadata": {},
   "outputs": [],
   "source": [
    "df_group = df_group.sort_values(by='datetime')"
   ]
  },
  {
   "cell_type": "code",
   "execution_count": 11,
   "id": "cultural-renaissance",
   "metadata": {},
   "outputs": [
    {
     "data": {
      "text/html": [
       "<div>\n",
       "<style scoped>\n",
       "    .dataframe tbody tr th:only-of-type {\n",
       "        vertical-align: middle;\n",
       "    }\n",
       "\n",
       "    .dataframe tbody tr th {\n",
       "        vertical-align: top;\n",
       "    }\n",
       "\n",
       "    .dataframe thead th {\n",
       "        text-align: right;\n",
       "    }\n",
       "</style>\n",
       "<table border=\"1\" class=\"dataframe\">\n",
       "  <thead>\n",
       "    <tr style=\"text-align: right;\">\n",
       "      <th></th>\n",
       "      <th>datetime</th>\n",
       "      <th>website</th>\n",
       "      <th>page_version</th>\n",
       "      <th>actionID</th>\n",
       "      <th>action_count</th>\n",
       "    </tr>\n",
       "  </thead>\n",
       "  <tbody>\n",
       "    <tr>\n",
       "      <th>0</th>\n",
       "      <td>2020-01-01</td>\n",
       "      <td>Amazon</td>\n",
       "      <td>app</td>\n",
       "      <td>1</td>\n",
       "      <td>3</td>\n",
       "    </tr>\n",
       "    <tr>\n",
       "      <th>30</th>\n",
       "      <td>2020-01-01</td>\n",
       "      <td>taobao</td>\n",
       "      <td>app</td>\n",
       "      <td>2</td>\n",
       "      <td>1</td>\n",
       "    </tr>\n",
       "    <tr>\n",
       "      <th>31</th>\n",
       "      <td>2020-01-01</td>\n",
       "      <td>taobao</td>\n",
       "      <td>app</td>\n",
       "      <td>3</td>\n",
       "      <td>6</td>\n",
       "    </tr>\n",
       "    <tr>\n",
       "      <th>32</th>\n",
       "      <td>2020-01-01</td>\n",
       "      <td>taobao</td>\n",
       "      <td>app</td>\n",
       "      <td>4</td>\n",
       "      <td>3</td>\n",
       "    </tr>\n",
       "    <tr>\n",
       "      <th>33</th>\n",
       "      <td>2020-01-01</td>\n",
       "      <td>taobao</td>\n",
       "      <td>app</td>\n",
       "      <td>5</td>\n",
       "      <td>2</td>\n",
       "    </tr>\n",
       "    <tr>\n",
       "      <th>...</th>\n",
       "      <td>...</td>\n",
       "      <td>...</td>\n",
       "      <td>...</td>\n",
       "      <td>...</td>\n",
       "      <td>...</td>\n",
       "    </tr>\n",
       "    <tr>\n",
       "      <th>539</th>\n",
       "      <td>2020-01-10</td>\n",
       "      <td>Amazon</td>\n",
       "      <td>web</td>\n",
       "      <td>4</td>\n",
       "      <td>8</td>\n",
       "    </tr>\n",
       "    <tr>\n",
       "      <th>540</th>\n",
       "      <td>2020-01-10</td>\n",
       "      <td>Amazon</td>\n",
       "      <td>web</td>\n",
       "      <td>5</td>\n",
       "      <td>5</td>\n",
       "    </tr>\n",
       "    <tr>\n",
       "      <th>541</th>\n",
       "      <td>2020-01-10</td>\n",
       "      <td>Amazon</td>\n",
       "      <td>web</td>\n",
       "      <td>6</td>\n",
       "      <td>3</td>\n",
       "    </tr>\n",
       "    <tr>\n",
       "      <th>528</th>\n",
       "      <td>2020-01-10</td>\n",
       "      <td>Amazon</td>\n",
       "      <td>mobile</td>\n",
       "      <td>3</td>\n",
       "      <td>5</td>\n",
       "    </tr>\n",
       "    <tr>\n",
       "      <th>573</th>\n",
       "      <td>2020-01-10</td>\n",
       "      <td>taobao</td>\n",
       "      <td>web</td>\n",
       "      <td>9</td>\n",
       "      <td>1</td>\n",
       "    </tr>\n",
       "  </tbody>\n",
       "</table>\n",
       "<p>574 rows × 5 columns</p>\n",
       "</div>"
      ],
      "text/plain": [
       "       datetime website page_version actionID  action_count\n",
       "0    2020-01-01  Amazon          app        1             3\n",
       "30   2020-01-01  taobao          app        2             1\n",
       "31   2020-01-01  taobao          app        3             6\n",
       "32   2020-01-01  taobao          app        4             3\n",
       "33   2020-01-01  taobao          app        5             2\n",
       "..          ...     ...          ...      ...           ...\n",
       "539  2020-01-10  Amazon          web        4             8\n",
       "540  2020-01-10  Amazon          web        5             5\n",
       "541  2020-01-10  Amazon          web        6             3\n",
       "528  2020-01-10  Amazon       mobile        3             5\n",
       "573  2020-01-10  taobao          web        9             1\n",
       "\n",
       "[574 rows x 5 columns]"
      ]
     },
     "execution_count": 11,
     "metadata": {},
     "output_type": "execute_result"
    }
   ],
   "source": [
    "df_group"
   ]
  },
  {
   "cell_type": "code",
   "execution_count": 12,
   "id": "coastal-fundamentals",
   "metadata": {},
   "outputs": [],
   "source": [
    "idsite_group = df_group.groupby('website')"
   ]
  },
  {
   "cell_type": "code",
   "execution_count": 13,
   "id": "designing-minister",
   "metadata": {},
   "outputs": [],
   "source": [
    "idsite_group_key = idsite_group.groups.keys()"
   ]
  },
  {
   "cell_type": "code",
   "execution_count": 14,
   "id": "italic-museum",
   "metadata": {},
   "outputs": [
    {
     "data": {
      "text/plain": [
       "dict_keys(['Amazon', 'taobao'])"
      ]
     },
     "execution_count": 14,
     "metadata": {},
     "output_type": "execute_result"
    }
   ],
   "source": [
    "idsite_group_key"
   ]
  },
  {
   "cell_type": "code",
   "execution_count": 15,
   "id": "friendly-bridges",
   "metadata": {},
   "outputs": [],
   "source": [
    "for idsite_key in idsite_group_key:\n",
    "    temp_df = idsite_group.get_group(idsite_key)\n",
    "    temp_df = temp_df.reset_index(drop=True)\n",
    "    action_pageversion_group = temp_df.groupby(['actionID', 'page_version'])\n",
    "    action_pageversion_group_key = action_pageversion_group.groups.keys()\n",
    "    \n",
    "    all_group_datetime_li = []\n",
    "    all_group_action_count_li = []\n",
    "    for action_pageversion_key in action_pageversion_group_key:\n",
    "        group = action_pageversion_group.get_group(action_pageversion_key)\n",
    "        datetime_li = sorted(list(set(group['datetime'])))\n",
    "        action_count_li = list(group['action_count'])\n",
    "        all_group_datetime_li.append(datetime_li)\n",
    "        all_group_action_count_li.append(action_count_li)\n",
    "    \n",
    "    group_key_li = list(action_pageversion_group_key)\n",
    "    action_li = [i[0] for i in group_key_li]\n",
    "    pageVersion_li = [i[1] for i in group_key_li]\n",
    "    \n",
    "\n",
    "        \n",
    "    li=[]\n",
    "    action_dim_id = ['1','2','3','4','5','6','7','8','9','10']\n",
    "    for i in action_dim_id:\n",
    "        li.append(dict(label=str(i),\n",
    "                    method=\"update\",\n",
    "                    args=[{\"visible\": list(np.array(action_dim_id) == i)},\n",
    "                          {\"title\": f\"Dimension{i} Count\", \"annotations\": []}\n",
    "                         ]\n",
    "                   ))        \n",
    "\n",
    "        \n",
    "    \n",
    "        \n",
    "    # Initialize figure\n",
    "    fig = go.Figure()\n",
    "    for datetime, value, action, pageVersion in zip(all_group_datetime_li, all_group_action_count_li, action_li, pageVersion_li):\n",
    "        if action == '7':\n",
    "            fig.add_trace(\n",
    "                go.Scatter(x=datetime,\n",
    "                           y=value,\n",
    "                           name=pageVersion,\n",
    "    #                        line=dict(color=\"#FFA500\"),\n",
    "                           visible=True\n",
    "                          ))\n",
    "\n",
    "        elif action != '7':\n",
    "            fig.add_trace(\n",
    "                go.Scatter(x=datetime,\n",
    "                           y=value,\n",
    "                           name=pageVersion,\n",
    "    #                        line=dict(color=\"#33CFA5\"),\n",
    "                           visible=False\n",
    "                          ))\n",
    "\n",
    "\n",
    "    fig.update_layout(\n",
    "        updatemenus=[\n",
    "            dict(\n",
    "                active=6,  # action 7 will show, when beginning\n",
    "                buttons=list(li),\n",
    "                bordercolor = \"#BEC8D9\",  # default\n",
    "                type=\"dropdown\",  # \"buttons\" \n",
    "                direction=\"down\",\n",
    "                showactive=True, # Highlights active dropdown item or active button if True.    \n",
    "            )\n",
    "        ])   \n",
    "\n",
    "\n",
    "    # Set title\n",
    "    fig.update_layout(\n",
    "                     title={\n",
    "            'text': f\"Action{li[6]['label']} Count\",\n",
    "            'font':{'size':30}\n",
    "                     })\n",
    "    # fig.update_layout(title_font_color=\"#FFA500\")\n",
    "\n",
    "    fig.update_layout(title_x=0.5)\n",
    "\n",
    "    plotly.offline.plot(fig, auto_open=False, filename=f\"../Fig/{idsite_key}_action_count.html\")"
   ]
  },
  {
   "cell_type": "markdown",
   "id": "controlling-domestic",
   "metadata": {},
   "source": [
    "## Case3"
   ]
  },
  {
   "cell_type": "code",
   "execution_count": 16,
   "id": "native-stevens",
   "metadata": {},
   "outputs": [],
   "source": [
    "keyword_search_in_website = pd.read_pickle('../Data/keyword.pkl')"
   ]
  },
  {
   "cell_type": "code",
   "execution_count": 17,
   "id": "interesting-houston",
   "metadata": {},
   "outputs": [],
   "source": [
    "# 微軟正黑體(標準)\n",
    "msjh = FontProperties(fname=r\"c:\\windows\\fonts\\msjh.ttc\")\n",
    "# 微軟正黑體(粗體)\n",
    "msjhbd = FontProperties(fname=r\"c:\\windows\\fonts\\msjhbd.ttc\")\n",
    "# Segoe UI(標準)\n",
    "segoeui = FontProperties(fname=r\"c:\\windows\\fonts\\segoeui.ttf\")\n",
    "# segoeuib(粗體)\n",
    "segoeuib = FontProperties(fname=r\"c:\\windows\\fonts\\segoeuib.ttf\")\n",
    "# 微軟正黑體大小 8\n",
    "msjh_small = FontProperties(fname=r\"c:\\windows\\fonts\\msjh.ttc\", size=8)"
   ]
  },
  {
   "cell_type": "code",
   "execution_count": 18,
   "id": "becoming-capitol",
   "metadata": {},
   "outputs": [],
   "source": [
    "keyword_search_in_website = ' '.join(keyword_search_in_website['keyword'].tolist())"
   ]
  },
  {
   "cell_type": "code",
   "execution_count": 19,
   "id": "typical-livestock",
   "metadata": {},
   "outputs": [
    {
     "data": {
      "image/png": "[encoded data removed]",
      "text/plain": [
       "<Figure size 720x576 with 1 Axes>"
      ]
     },
     "metadata": {
      "needs_background": "light"
     },
     "output_type": "display_data"
    }
   ],
   "source": [
    "wc = WordCloud(font_path=\"c:\\windows\\fonts\\msjh.ttc\", max_font_size=50, max_words=100, background_color=\"white\")\n",
    "wc.generate(keyword_search_in_website)\n",
    "\n",
    "\n",
    "#plot sth\n",
    "tmpfile = BytesIO()\n",
    "\n",
    "fig = plt.figure(figsize=(10,8))\n",
    "plt.imshow(wc, interpolation='bilinear')\n",
    "plt.axis(\"off\")\n",
    "\n",
    "fig.savefig(tmpfile, format='png')\n",
    "encoded = base64.b64encode(tmpfile.getvalue()).decode('utf-8')\n",
    "\n",
    "html = '<img src=\\'data:image/png;base64,{}\\'>'.format(encoded)\n",
    "\n",
    "with open('../Fig/wordcloud.html','w') as f:\n",
    "    f.write(html)"
   ]
  },
  {
   "cell_type": "code",
   "execution_count": null,
   "id": "acute-guard",
   "metadata": {},
   "outputs": [],
   "source": []
  },
  {
   "cell_type": "markdown",
   "id": "defensive-boost",
   "metadata": {},
   "source": [
    "## Pivot Table"
   ]
  },
  {
   "cell_type": "markdown",
   "id": "written-constitutional",
   "metadata": {},
   "source": [
    "### Create HTML Template for Pivot Table"
   ]
  },
  {
   "cell_type": "markdown",
   "id": "backed-plaintiff",
   "metadata": {},
   "source": [
    "#### Create Pivot Table by Using `Pivottablejs`\n",
    "[Reference]('https://github.com/nicolaskruchten/jupyter_pivottablejs')\n",
    "\n",
    "---\n",
    "```python\n",
    "df = pd.read_pickle('../Data/meta_data/data_action_count.pkl')\n",
    "def pivot_ui(df, **kwargs):\n",
    "    import pivottablejs\n",
    "    class _DataFrame(pd.DataFrame):\n",
    "        def to_csv(self, **kwargs):\n",
    "            return super().to_csv(**kwargs).replace(\"\\r\\n\", \"\\n\")\n",
    "    return pivottablejs.pivot_ui(_DataFrame(df), **kwargs)\n",
    "pivot_ui(df, \n",
    "         rendererName= [\"Table\"],\n",
    "         rows= [\"idsite\"],\n",
    "         cols= [\"page_version\"],\n",
    "         outfile_path=\"../Fig/pivot_demo_tpl.html\")\n",
    "```\n",
    "---"
   ]
  },
  {
   "cell_type": "markdown",
   "id": "honest-england",
   "metadata": {},
   "source": [
    "**Through above code, we can get the html file. Next step, extracting part of html code we need.**"
   ]
  },
  {
   "cell_type": "code",
   "execution_count": 20,
   "id": "prostate-raising",
   "metadata": {},
   "outputs": [],
   "source": [
    "TEMPLATE = u\"\"\"\n",
    "<!DOCTYPE html>\n",
    "<html>\n",
    "    <head>\n",
    "        <meta charset=\"UTF-8\">\n",
    "        <title>PivotTable.js</title>\n",
    "\n",
    "        <!-- external libs from cdnjs -->\n",
    "        <link rel=\"stylesheet\" type=\"text/css\" href=\"https://cdnjs.cloudflare.com/ajax/libs/c3/0.4.11/c3.min.css\">\n",
    "        <script type=\"text/javascript\" src=\"https://cdnjs.cloudflare.com/ajax/libs/d3/3.5.5/d3.min.js\"></script>\n",
    "        <script type=\"text/javascript\" src=\"https://cdnjs.cloudflare.com/ajax/libs/c3/0.4.11/c3.min.js\"></script>\n",
    "        <script type=\"text/javascript\" src=\"https://cdnjs.cloudflare.com/ajax/libs/jquery/1.11.2/jquery.min.js\"></script>\n",
    "        <script type=\"text/javascript\" src=\"https://cdnjs.cloudflare.com/ajax/libs/jqueryui/1.11.4/jquery-ui.min.js\"></script>\n",
    "        <script type=\"text/javascript\" src=\"https://cdnjs.cloudflare.com/ajax/libs/jquery-csv/0.71/jquery.csv-0.71.min.js\"></script>\n",
    "\n",
    "\n",
    "        <link rel=\"stylesheet\" type=\"text/css\" href=\"https://cdnjs.cloudflare.com/ajax/libs/pivottable/2.19.0/pivot.min.css\">\n",
    "        <script type=\"text/javascript\" src=\"https://cdnjs.cloudflare.com/ajax/libs/pivottable/2.19.0/pivot.min.js\"></script>\n",
    "        <script type=\"text/javascript\" src=\"https://cdnjs.cloudflare.com/ajax/libs/pivottable/2.19.0/d3_renderers.min.js\"></script>\n",
    "        <script type=\"text/javascript\" src=\"https://cdnjs.cloudflare.com/ajax/libs/pivottable/2.19.0/c3_renderers.min.js\"></script>\n",
    "        <script type=\"text/javascript\" src=\"https://cdnjs.cloudflare.com/ajax/libs/pivottable/2.19.0/export_renderers.min.js\"></script>\n",
    "\n",
    "        <style>\n",
    "            body {font-family: Verdana;}\n",
    "            .node {\n",
    "              border: solid 1px white;\n",
    "              font: 10px sans-serif;\n",
    "              line-height: 12px;\n",
    "              overflow: hidden;\n",
    "              position: absolute;\n",
    "              text-indent: 2px;\n",
    "            }\n",
    "            .c3-line, .c3-focused {stroke-width: 3px !important;}\n",
    "            .c3-bar {stroke: white !important; stroke-width: 1;}\n",
    "            .c3 text { font-size: 12px; color: grey;}\n",
    "            .tick line {stroke: white;}\n",
    "            .c3-axis path {stroke: grey;}\n",
    "            .c3-circle { opacity: 1 !important; }\n",
    "            .c3-xgrid-focus {visibility: hidden !important;}\n",
    "        </style>\n",
    "    </head>\n",
    "    <body>\n",
    "        <script type=\"text/javascript\">\n",
    "            $(function(){\n",
    "\n",
    "                $(\"#output\").pivotUI(\n",
    "                    $.csv.toArrays($(\"#output\").text())\n",
    "                    , $.extend({\n",
    "                        renderers: $.extend(\n",
    "                            $.pivotUtilities.renderers,\n",
    "                            $.pivotUtilities.c3_renderers,\n",
    "                            $.pivotUtilities.d3_renderers,\n",
    "                            $.pivotUtilities.export_renderers\n",
    "                            ),\n",
    "                        hiddenAttributes: [\"\"]\n",
    "                    } \n",
    "                    , %(kwargs)s\n",
    "                    , %(json_kwargs)s)\n",
    "                ).show();\n",
    "             });\n",
    "        </script>\n",
    "        <div id=\"output\" style=\"display: none;\">%(csv)s</div>\n",
    "\n",
    "    </body>\n",
    "</html>\n",
    "\"\"\"\n",
    "\n",
    "\n",
    "def pivot_cht_ui(df, outfile_path, url=\"\",\n",
    "    width=\"100%\", height=\"500\",json_kwargs='',  **kwargs):\n",
    "    with io.open(outfile_path, 'wt', encoding='utf8') as outfile:\n",
    "        csv = df.to_csv(encoding='utf8')\n",
    "        if hasattr(csv, 'decode'):\n",
    "            csv = csv.decode('utf8')\n",
    "        outfile.write(TEMPLATE %\n",
    "            dict(csv=csv, kwargs=json.dumps(kwargs),json_kwargs=json_kwargs))\n",
    "  \n",
    "    return IFrame(src=url or outfile_path, width=width, height=height)"
   ]
  },
  {
   "cell_type": "code",
   "execution_count": 21,
   "id": "empirical-meter",
   "metadata": {},
   "outputs": [],
   "source": [
    "# only appear in windows os\n",
    "def clean_whitespace_in_df(df):\n",
    "    class _DataFrame(pd.DataFrame):\n",
    "        def to_csv(self, **kwargs):\n",
    "            return super().to_csv(**kwargs).replace(\"\\r\\n\", \"\\n\")\n",
    "    return _DataFrame(df)"
   ]
  },
  {
   "cell_type": "code",
   "execution_count": 22,
   "id": "constant-prison",
   "metadata": {},
   "outputs": [],
   "source": [
    "df = pd.read_pickle('../Data/web_lod_data.pkl')"
   ]
  },
  {
   "cell_type": "code",
   "execution_count": 23,
   "id": "infrared-scheme",
   "metadata": {},
   "outputs": [],
   "source": [
    "clean_df = clean_whitespace_in_df(df)"
   ]
  },
  {
   "cell_type": "markdown",
   "id": "constitutional-marble",
   "metadata": {},
   "source": [
    "### Html Template for Pivot Table"
   ]
  },
  {
   "cell_type": "code",
   "execution_count": 24,
   "id": "protecting-scheme",
   "metadata": {},
   "outputs": [
    {
     "data": {
      "text/html": [
       "\n",
       "        <iframe\n",
       "            width=\"100%\"\n",
       "            height=\"500\"\n",
       "            src=\"../Fig/pivot_demo.html\"\n",
       "            frameborder=\"0\"\n",
       "            allowfullscreen\n",
       "        ></iframe>\n",
       "        "
      ],
      "text/plain": [
       "<IPython.lib.display.IFrame at 0x1f33febb5c8>"
      ]
     },
     "execution_count": 24,
     "metadata": {},
     "output_type": "execute_result"
    }
   ],
   "source": [
    "pivot_cht_ui(clean_df,\n",
    "             outfile_path=\"../Fig/pivot_demo.html\",\n",
    "             rendererName= [\"Table\"],\n",
    "             rows= [\"website\"],\n",
    "             cols= [\"page_version\"],\n",
    "             )"
   ]
  },
  {
   "cell_type": "markdown",
   "id": "first-tomato",
   "metadata": {},
   "source": [
    "## plot two plotly graph together"
   ]
  },
  {
   "cell_type": "code",
   "execution_count": 25,
   "id": "satisfied-shark",
   "metadata": {},
   "outputs": [],
   "source": [
    "df = pd.read_pickle('../Data/web_lod_data.pkl')\n",
    "df_group = df.groupby(['datetime', 'website']).size().reset_index(name='size')"
   ]
  },
  {
   "cell_type": "code",
   "execution_count": 26,
   "id": "native-attraction",
   "metadata": {},
   "outputs": [],
   "source": [
    "Amazon_df = df_group.query(\"website=='Amazon'\")\n",
    "Amazon_va_df = Amazon_df.groupby('datetime').agg({'size': 'sum'}).reset_index(drop=False)"
   ]
  },
  {
   "cell_type": "code",
   "execution_count": 27,
   "id": "artistic-arnold",
   "metadata": {},
   "outputs": [],
   "source": [
    "taobao_df = df_group.query(\"website=='taobao'\")\n",
    "taobao_va_df = taobao_df.groupby('datetime').agg({'size': 'sum'}).reset_index(drop=False)"
   ]
  },
  {
   "cell_type": "code",
   "execution_count": 28,
   "id": "adaptive-brazil",
   "metadata": {},
   "outputs": [
    {
     "data": {
      "text/html": [
       "<div>\n",
       "<style scoped>\n",
       "    .dataframe tbody tr th:only-of-type {\n",
       "        vertical-align: middle;\n",
       "    }\n",
       "\n",
       "    .dataframe tbody tr th {\n",
       "        vertical-align: top;\n",
       "    }\n",
       "\n",
       "    .dataframe thead th {\n",
       "        text-align: right;\n",
       "    }\n",
       "</style>\n",
       "<table border=\"1\" class=\"dataframe\">\n",
       "  <thead>\n",
       "    <tr style=\"text-align: right;\">\n",
       "      <th></th>\n",
       "      <th>datetime</th>\n",
       "      <th>size</th>\n",
       "    </tr>\n",
       "  </thead>\n",
       "  <tbody>\n",
       "    <tr>\n",
       "      <th>0</th>\n",
       "      <td>2020-01-01</td>\n",
       "      <td>109</td>\n",
       "    </tr>\n",
       "    <tr>\n",
       "      <th>1</th>\n",
       "      <td>2020-01-02</td>\n",
       "      <td>100</td>\n",
       "    </tr>\n",
       "    <tr>\n",
       "      <th>2</th>\n",
       "      <td>2020-01-03</td>\n",
       "      <td>95</td>\n",
       "    </tr>\n",
       "    <tr>\n",
       "      <th>3</th>\n",
       "      <td>2020-01-04</td>\n",
       "      <td>103</td>\n",
       "    </tr>\n",
       "    <tr>\n",
       "      <th>4</th>\n",
       "      <td>2020-01-05</td>\n",
       "      <td>84</td>\n",
       "    </tr>\n",
       "  </tbody>\n",
       "</table>\n",
       "</div>"
      ],
      "text/plain": [
       "     datetime  size\n",
       "0  2020-01-01   109\n",
       "1  2020-01-02   100\n",
       "2  2020-01-03    95\n",
       "3  2020-01-04   103\n",
       "4  2020-01-05    84"
      ]
     },
     "metadata": {},
     "output_type": "display_data"
    },
    {
     "data": {
      "text/html": [
       "<div>\n",
       "<style scoped>\n",
       "    .dataframe tbody tr th:only-of-type {\n",
       "        vertical-align: middle;\n",
       "    }\n",
       "\n",
       "    .dataframe tbody tr th {\n",
       "        vertical-align: top;\n",
       "    }\n",
       "\n",
       "    .dataframe thead th {\n",
       "        text-align: right;\n",
       "    }\n",
       "</style>\n",
       "<table border=\"1\" class=\"dataframe\">\n",
       "  <thead>\n",
       "    <tr style=\"text-align: right;\">\n",
       "      <th></th>\n",
       "      <th>datetime</th>\n",
       "      <th>size</th>\n",
       "    </tr>\n",
       "  </thead>\n",
       "  <tbody>\n",
       "    <tr>\n",
       "      <th>0</th>\n",
       "      <td>2020-01-01</td>\n",
       "      <td>94</td>\n",
       "    </tr>\n",
       "    <tr>\n",
       "      <th>1</th>\n",
       "      <td>2020-01-02</td>\n",
       "      <td>106</td>\n",
       "    </tr>\n",
       "    <tr>\n",
       "      <th>2</th>\n",
       "      <td>2020-01-03</td>\n",
       "      <td>87</td>\n",
       "    </tr>\n",
       "    <tr>\n",
       "      <th>3</th>\n",
       "      <td>2020-01-04</td>\n",
       "      <td>95</td>\n",
       "    </tr>\n",
       "    <tr>\n",
       "      <th>4</th>\n",
       "      <td>2020-01-05</td>\n",
       "      <td>97</td>\n",
       "    </tr>\n",
       "  </tbody>\n",
       "</table>\n",
       "</div>"
      ],
      "text/plain": [
       "     datetime  size\n",
       "0  2020-01-01    94\n",
       "1  2020-01-02   106\n",
       "2  2020-01-03    87\n",
       "3  2020-01-04    95\n",
       "4  2020-01-05    97"
      ]
     },
     "metadata": {},
     "output_type": "display_data"
    }
   ],
   "source": [
    "display(Amazon_va_df.head(),taobao_va_df.head())"
   ]
  },
  {
   "cell_type": "code",
   "execution_count": 29,
   "id": "exceptional-little",
   "metadata": {},
   "outputs": [
    {
     "data": {
      "text/plain": [
       "'../Fig/muti_graph_demo.html'"
      ]
     },
     "execution_count": 29,
     "metadata": {},
     "output_type": "execute_result"
    }
   ],
   "source": [
    "fig = make_subplots(rows=1, cols=2)\n",
    "\n",
    "fig.add_scatter(x=Amazon_va_df['datetime'], y=Amazon_va_df['size'], mode=\"lines\", row=1, col=1)\n",
    "fig.add_scatter(x=taobao_va_df['datetime'], y=taobao_va_df['size'], mode=\"lines\",row=1, col=2, marker=dict(color=\"MediumPurple\"))\n",
    "\n",
    "# Hide legend\n",
    "fig.update_layout(\n",
    "    showlegend=False,\n",
    "    title_text=\"Combine Multiple Plots In One Graph\",\n",
    "    height=500,\n",
    "    width=800,\n",
    ")\n",
    "plotly.offline.plot(fig, auto_open=False, validate=False, filename=f\"../Fig/muti_graph_demo.html\")\n"
   ]
  },
  {
   "cell_type": "markdown",
   "id": "detailed-homeless",
   "metadata": {},
   "source": [
    "## Table"
   ]
  },
  {
   "cell_type": "markdown",
   "id": "swedish-figure",
   "metadata": {},
   "source": [
    "### Interactive Table"
   ]
  },
  {
   "cell_type": "code",
   "execution_count": 30,
   "id": "cardiac-treat",
   "metadata": {},
   "outputs": [],
   "source": [
    "keyword_search_in_website = pd.read_pickle('../Data/keyword.pkl')"
   ]
  },
  {
   "cell_type": "code",
   "execution_count": 31,
   "id": "liquid-remainder",
   "metadata": {},
   "outputs": [],
   "source": [
    "keyword_search_in_website = ' '.join(keyword_search_in_website['keyword'].tolist())"
   ]
  },
  {
   "cell_type": "code",
   "execution_count": 32,
   "id": "banner-science",
   "metadata": {},
   "outputs": [],
   "source": [
    "keyword_li = keyword_search_in_website.split()"
   ]
  },
  {
   "cell_type": "code",
   "execution_count": 33,
   "id": "ancient-gothic",
   "metadata": {},
   "outputs": [],
   "source": [
    "from collections import Counter\n",
    "keyword_count = Counter(keyword_li)"
   ]
  },
  {
   "cell_type": "code",
   "execution_count": 34,
   "id": "vietnamese-confidence",
   "metadata": {},
   "outputs": [],
   "source": [
    "df = pd.DataFrame.from_dict(keyword_count, orient='index').reset_index()\n",
    "df.columns = ['key_word', 'count']\n",
    "df = df.sort_values(by='count', ascending=False)\n",
    "df = df.query(\"count>1\")\n",
    "df = df.reset_index(drop=True)"
   ]
  },
  {
   "cell_type": "code",
   "execution_count": 35,
   "id": "informative-sponsorship",
   "metadata": {},
   "outputs": [
    {
     "data": {
      "text/html": [
       "<div>\n",
       "<style scoped>\n",
       "    .dataframe tbody tr th:only-of-type {\n",
       "        vertical-align: middle;\n",
       "    }\n",
       "\n",
       "    .dataframe tbody tr th {\n",
       "        vertical-align: top;\n",
       "    }\n",
       "\n",
       "    .dataframe thead th {\n",
       "        text-align: right;\n",
       "    }\n",
       "</style>\n",
       "<table border=\"1\" class=\"dataframe\">\n",
       "  <thead>\n",
       "    <tr style=\"text-align: right;\">\n",
       "      <th></th>\n",
       "      <th>key_word</th>\n",
       "      <th>count</th>\n",
       "    </tr>\n",
       "  </thead>\n",
       "  <tbody>\n",
       "    <tr>\n",
       "      <th>0</th>\n",
       "      <td>詞彙y</td>\n",
       "      <td>20</td>\n",
       "    </tr>\n",
       "    <tr>\n",
       "      <th>1</th>\n",
       "      <td>詞彙o</td>\n",
       "      <td>19</td>\n",
       "    </tr>\n",
       "    <tr>\n",
       "      <th>2</th>\n",
       "      <td>詞彙f</td>\n",
       "      <td>17</td>\n",
       "    </tr>\n",
       "    <tr>\n",
       "      <th>3</th>\n",
       "      <td>詞彙D</td>\n",
       "      <td>17</td>\n",
       "    </tr>\n",
       "    <tr>\n",
       "      <th>4</th>\n",
       "      <td>詞彙d</td>\n",
       "      <td>17</td>\n",
       "    </tr>\n",
       "  </tbody>\n",
       "</table>\n",
       "</div>"
      ],
      "text/plain": [
       "  key_word  count\n",
       "0      詞彙y     20\n",
       "1      詞彙o     19\n",
       "2      詞彙f     17\n",
       "3      詞彙D     17\n",
       "4      詞彙d     17"
      ]
     },
     "execution_count": 35,
     "metadata": {},
     "output_type": "execute_result"
    }
   ],
   "source": [
    "df.head()"
   ]
  },
  {
   "cell_type": "code",
   "execution_count": 36,
   "id": "soviet-organization",
   "metadata": {},
   "outputs": [],
   "source": [
    "base_html = \"\"\"\n",
    "<!doctype html>\n",
    "<html>\n",
    "    <head>\n",
    "        <meta http-equiv=\"Content-type\" content=\"text/html; charset=utf-8\">\n",
    "        <script type=\"text/javascript\" src=\"https://ajax.googleapis.com/ajax/libs/jquery/2.2.2/jquery.min.js\"></script>\n",
    "        <link rel=\"stylesheet\" type=\"text/css\" href=\"https://cdn.datatables.net/1.10.16/css/jquery.dataTables.css\">\n",
    "        <script type=\"text/javascript\" src=\"https://cdn.datatables.net/1.10.16/js/jquery.dataTables.js\"></script>\n",
    "    </head>\n",
    "    <body>%s\n",
    "        <script type=\"text/javascript\">$(document).ready(function(){$('table').DataTable({\n",
    "            \"pageLength\": 10\n",
    "        });});\n",
    "        </script>\n",
    "    </body>\n",
    "</html>\n",
    "\"\"\"\n",
    "\n",
    "def df_html(df):\n",
    "    \"\"\"HTML table with pagination and other goodies\"\"\"\n",
    "    df_html = df.to_html()\n",
    "    return base_html % df_html\n"
   ]
  },
  {
   "cell_type": "code",
   "execution_count": 37,
   "id": "compact-reach",
   "metadata": {},
   "outputs": [],
   "source": [
    "with open('../Fig/interactive_df.html','w', encoding='utf8') as f:\n",
    "    f.write(df_html(df))"
   ]
  },
  {
   "cell_type": "markdown",
   "id": "substantial-calculator",
   "metadata": {},
   "source": [
    "### Static Table"
   ]
  },
  {
   "cell_type": "code",
   "execution_count": 38,
   "id": "entitled-marijuana",
   "metadata": {},
   "outputs": [
    {
     "data": {
      "text/html": [
       "\n",
       "<html>\n",
       "    <body>\n",
       "        <table class=\"table table-striped\">\n",
       "            <th>中文名</th><th>英文全名</th><th>公司代號</th>\n",
       "            <tr>\n",
       "                <td><a href=\"https://www.amazon.com/\">亞馬遜</a></td>\n",
       "                <td>Amazon</a></td>\n",
       "                <td>AMZN</td>\n",
       "            </tr>\n",
       "            <tr>\n",
       "                <td><a href=\"https://world.taobao.com/product/%E6%B7%98%E5%AF%B6%E5%A4%A7%E9%99%B8.htm\">淘寶</a></td>\n",
       "                <td>Taobao</td>\n",
       "                <td>BABA</td>\n",
       "            </tr>\n",
       "        </table>\n",
       "    </body>\n",
       "</html>\n"
      ],
      "text/plain": [
       "<IPython.core.display.HTML object>"
      ]
     },
     "execution_count": 38,
     "metadata": {},
     "output_type": "execute_result"
    }
   ],
   "source": [
    "static_table_with_link = '''\n",
    "<html>\n",
    "    <body>\n",
    "        <table class=\"table table-striped\">\n",
    "            <th>中文名</th><th>英文全名</th><th>公司代號</th>\n",
    "            <tr>\n",
    "                <td><a href=\"https://www.amazon.com/\">亞馬遜</a></td>\n",
    "                <td>Amazon</a></td>\n",
    "                <td>AMZN</td>\n",
    "            </tr>\n",
    "            <tr>\n",
    "                <td><a href=\"https://world.taobao.com/product/%E6%B7%98%E5%AF%B6%E5%A4%A7%E9%99%B8.htm\">淘寶</a></td>\n",
    "                <td>Taobao</td>\n",
    "                <td>BABA</td>\n",
    "            </tr>\n",
    "        </table>\n",
    "    </body>\n",
    "</html>\n",
    "'''\n",
    "HTML(static_table_with_link)"
   ]
  },
  {
   "cell_type": "code",
   "execution_count": 39,
   "id": "suitable-hypothesis",
   "metadata": {},
   "outputs": [],
   "source": [
    "with open('../Fig/static_table_with_link.html', 'w', encoding='utf8') as f:\n",
    "    f.write(static_table_with_link)"
   ]
  },
  {
   "cell_type": "code",
   "execution_count": 40,
   "id": "employed-newfoundland",
   "metadata": {},
   "outputs": [],
   "source": [
    "data = [['脫褲子放屁', '多此一舉'],\n",
    "        ['翹著屁股看天', '有眼無珠'],\n",
    "        ['茅廁裡跌倒', '離死不遠了']]"
   ]
  },
  {
   "cell_type": "code",
   "execution_count": 41,
   "id": "welcome-reynolds",
   "metadata": {},
   "outputs": [],
   "source": [
    "df = pd.DataFrame(data, columns=['第一句', '第二句'])"
   ]
  },
  {
   "cell_type": "code",
   "execution_count": 42,
   "id": "moral-algeria",
   "metadata": {},
   "outputs": [],
   "source": [
    "static_table = df.to_html().replace('<table border=\"1\" class=\"dataframe\">','<table class=\"table table-striped\">') # use bootstrap styling"
   ]
  },
  {
   "cell_type": "code",
   "execution_count": 43,
   "id": "defined-evidence",
   "metadata": {},
   "outputs": [],
   "source": [
    "static_table = f'''\n",
    "<html>\n",
    "    <body>\n",
    "    {static_table}\n",
    "    </body>\n",
    "</html>\n",
    "'''"
   ]
  },
  {
   "cell_type": "code",
   "execution_count": 44,
   "id": "honest-massage",
   "metadata": {},
   "outputs": [
    {
     "data": {
      "text/html": [
       "\n",
       "<html>\n",
       "    <body>\n",
       "    <table class=\"table table-striped\">\n",
       "  <thead>\n",
       "    <tr style=\"text-align: right;\">\n",
       "      <th></th>\n",
       "      <th>第一句</th>\n",
       "      <th>第二句</th>\n",
       "    </tr>\n",
       "  </thead>\n",
       "  <tbody>\n",
       "    <tr>\n",
       "      <th>0</th>\n",
       "      <td>脫褲子放屁</td>\n",
       "      <td>多此一舉</td>\n",
       "    </tr>\n",
       "    <tr>\n",
       "      <th>1</th>\n",
       "      <td>翹著屁股看天</td>\n",
       "      <td>有眼無珠</td>\n",
       "    </tr>\n",
       "    <tr>\n",
       "      <th>2</th>\n",
       "      <td>茅廁裡跌倒</td>\n",
       "      <td>離死不遠了</td>\n",
       "    </tr>\n",
       "  </tbody>\n",
       "</table>\n",
       "    </body>\n",
       "</html>\n"
      ],
      "text/plain": [
       "<IPython.core.display.HTML object>"
      ]
     },
     "execution_count": 44,
     "metadata": {},
     "output_type": "execute_result"
    }
   ],
   "source": [
    "HTML(static_table)"
   ]
  },
  {
   "cell_type": "code",
   "execution_count": 45,
   "id": "ideal-texas",
   "metadata": {},
   "outputs": [],
   "source": [
    "with open('../Fig/static_table.html', 'w', encoding='utf8') as f:\n",
    "    f.write(static_table)"
   ]
  },
  {
   "cell_type": "code",
   "execution_count": null,
   "id": "configured-conditions",
   "metadata": {},
   "outputs": [],
   "source": []
  }
 ],
 "metadata": {
  "kernelspec": {
   "display_name": "Python 3",
   "language": "python",
   "name": "python3"
  },
  "language_info": {
   "codemirror_mode": {
    "name": "ipython",
    "version": 3
   },
   "file_extension": ".py",
   "mimetype": "text/x-python",
   "name": "python",
   "nbconvert_exporter": "python",
   "pygments_lexer": "ipython3",
   "version": "3.7.7"
  }
 },
 "nbformat": 4,
 "nbformat_minor": 5
}
