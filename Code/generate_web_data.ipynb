{
 "cells": [
  {
   "cell_type": "code",
   "execution_count": 1,
   "id": "formal-batch",
   "metadata": {},
   "outputs": [],
   "source": [
    "import pandas as pd\n",
    "import numpy as np\n",
    "import random\n",
    "import datetime\n",
    "import re\n",
    "import string"
   ]
  },
  {
   "cell_type": "code",
   "execution_count": 2,
   "id": "everyday-vessel",
   "metadata": {},
   "outputs": [],
   "source": [
    "random.seed(1994)"
   ]
  },
  {
   "cell_type": "markdown",
   "id": "sought-marble",
   "metadata": {},
   "source": [
    "## Generate Website Log Data "
   ]
  },
  {
   "cell_type": "code",
   "execution_count": 3,
   "id": "sought-eagle",
   "metadata": {},
   "outputs": [],
   "source": [
    "df = pd.DataFrame()"
   ]
  },
  {
   "cell_type": "code",
   "execution_count": 4,
   "id": "proof-cambodia",
   "metadata": {},
   "outputs": [],
   "source": [
    "rows = 2000"
   ]
  },
  {
   "cell_type": "code",
   "execution_count": 5,
   "id": "split-cement",
   "metadata": {},
   "outputs": [],
   "source": [
    "website_li = ['Amazon','taobao']\n",
    "random_index = np.random.randint(0,len(website_li),size=rows).tolist()\n",
    "website = [website_li[i] for i in random_index]"
   ]
  },
  {
   "cell_type": "code",
   "execution_count": 6,
   "id": "illegal-deputy",
   "metadata": {},
   "outputs": [],
   "source": [
    "pageVersion_li = ['web','mobile', 'app']\n",
    "random_index = np.random.randint(0,len(pageVersion_li),size=rows).tolist()\n",
    "pageVersion = [pageVersion_li[i] for i in random_index]"
   ]
  },
  {
   "cell_type": "code",
   "execution_count": 7,
   "id": "endless-drama",
   "metadata": {},
   "outputs": [],
   "source": [
    "actionID_li = ['1', '2', '3', '4', '5', '6', '7', '8', '9', '10']\n",
    "random_index = np.random.randint(0,len(actionID_li),size=rows).tolist()\n",
    "actionID = [actionID_li[i] for i in random_index]"
   ]
  },
  {
   "cell_type": "code",
   "execution_count": 8,
   "id": "dried-active",
   "metadata": {},
   "outputs": [],
   "source": [
    "actionID_li = ['1', '2', '3', '4', '5', '6', '7', '8', '9', '10']"
   ]
  },
  {
   "cell_type": "code",
   "execution_count": 9,
   "id": "emotional-bradley",
   "metadata": {},
   "outputs": [],
   "source": [
    "def date_generater(start_time, end_time):\n",
    "    # confirm input is string type\n",
    "    if not(isinstance(start_time, str) and isinstance(end_time, str)):\n",
    "        raise TypeError('date format must be a string')\n",
    "        \n",
    "    # confirm date format is correct  \n",
    "    if (re.fullmatch(pattern=r'\\d{4}(0[1-9]|1[0-2])([0-2][0-9]|3[0-1])' , string = start_time, flags=0) == None) or (\n",
    "        re.fullmatch(pattern=r'\\d{4}(0[1-9]|1[0-2])([0-2][0-9]|3[0-1])' , string = end_time, flags=0) == None):\n",
    "        raise ValueError('date format is wrong')\n",
    "\n",
    "    year, month, day = int(start_time[0:4]), int(start_time[4:6]), int(start_time[6:8])\n",
    "    start = datetime.date(year, month, day)\n",
    "\n",
    "    year, month, day = int(end_time[0:4]), int(end_time[4:6]), int(end_time[6:8])\n",
    "    end = datetime.date(year, month, day)\n",
    "\n",
    "    # start = datetime.datetime.strptime('2020-10-08', \"%Y-%m-%d\").date()\n",
    "    # end = datetime.datetime.strptime('2020-10-10', \"%Y-%m-%d\").date()\n",
    "    # datetime.timedelta: 用來做時間的間隔或兩時間的差，可與 datetime.date 做加減\n",
    "    date_list = [start + datetime.timedelta(days=i) for i in range((end - start).days+1)]\n",
    "    return date_list"
   ]
  },
  {
   "cell_type": "code",
   "execution_count": 10,
   "id": "streaming-astronomy",
   "metadata": {},
   "outputs": [],
   "source": [
    "datetime_li = date_generater('20200101', '20200110')\n",
    "random_index = np.random.randint(0,len(datetime_li),size=rows).tolist()\n",
    "datetime = [datetime_li[i] for i in random_index]"
   ]
  },
  {
   "cell_type": "code",
   "execution_count": 11,
   "id": "convinced-measure",
   "metadata": {},
   "outputs": [],
   "source": [
    "df['datetime'] = datetime\n",
    "df['website'] = website\n",
    "df['page_version'] = pageVersion\n",
    "df['actionID'] = actionID"
   ]
  },
  {
   "cell_type": "code",
   "execution_count": 12,
   "id": "oriental-world",
   "metadata": {},
   "outputs": [
    {
     "data": {
      "text/html": [
       "<div>\n",
       "<style scoped>\n",
       "    .dataframe tbody tr th:only-of-type {\n",
       "        vertical-align: middle;\n",
       "    }\n",
       "\n",
       "    .dataframe tbody tr th {\n",
       "        vertical-align: top;\n",
       "    }\n",
       "\n",
       "    .dataframe thead th {\n",
       "        text-align: right;\n",
       "    }\n",
       "</style>\n",
       "<table border=\"1\" class=\"dataframe\">\n",
       "  <thead>\n",
       "    <tr style=\"text-align: right;\">\n",
       "      <th></th>\n",
       "      <th>datetime</th>\n",
       "      <th>website</th>\n",
       "      <th>page_version</th>\n",
       "      <th>actionID</th>\n",
       "    </tr>\n",
       "  </thead>\n",
       "  <tbody>\n",
       "    <tr>\n",
       "      <th>0</th>\n",
       "      <td>2020-01-10</td>\n",
       "      <td>taobao</td>\n",
       "      <td>mobile</td>\n",
       "      <td>9</td>\n",
       "    </tr>\n",
       "    <tr>\n",
       "      <th>1</th>\n",
       "      <td>2020-01-03</td>\n",
       "      <td>Amazon</td>\n",
       "      <td>mobile</td>\n",
       "      <td>2</td>\n",
       "    </tr>\n",
       "    <tr>\n",
       "      <th>2</th>\n",
       "      <td>2020-01-01</td>\n",
       "      <td>Amazon</td>\n",
       "      <td>app</td>\n",
       "      <td>7</td>\n",
       "    </tr>\n",
       "    <tr>\n",
       "      <th>3</th>\n",
       "      <td>2020-01-03</td>\n",
       "      <td>Amazon</td>\n",
       "      <td>app</td>\n",
       "      <td>8</td>\n",
       "    </tr>\n",
       "    <tr>\n",
       "      <th>4</th>\n",
       "      <td>2020-01-07</td>\n",
       "      <td>taobao</td>\n",
       "      <td>app</td>\n",
       "      <td>4</td>\n",
       "    </tr>\n",
       "    <tr>\n",
       "      <th>...</th>\n",
       "      <td>...</td>\n",
       "      <td>...</td>\n",
       "      <td>...</td>\n",
       "      <td>...</td>\n",
       "    </tr>\n",
       "    <tr>\n",
       "      <th>1995</th>\n",
       "      <td>2020-01-06</td>\n",
       "      <td>Amazon</td>\n",
       "      <td>web</td>\n",
       "      <td>2</td>\n",
       "    </tr>\n",
       "    <tr>\n",
       "      <th>1996</th>\n",
       "      <td>2020-01-07</td>\n",
       "      <td>taobao</td>\n",
       "      <td>app</td>\n",
       "      <td>3</td>\n",
       "    </tr>\n",
       "    <tr>\n",
       "      <th>1997</th>\n",
       "      <td>2020-01-03</td>\n",
       "      <td>taobao</td>\n",
       "      <td>mobile</td>\n",
       "      <td>1</td>\n",
       "    </tr>\n",
       "    <tr>\n",
       "      <th>1998</th>\n",
       "      <td>2020-01-07</td>\n",
       "      <td>taobao</td>\n",
       "      <td>app</td>\n",
       "      <td>8</td>\n",
       "    </tr>\n",
       "    <tr>\n",
       "      <th>1999</th>\n",
       "      <td>2020-01-09</td>\n",
       "      <td>taobao</td>\n",
       "      <td>web</td>\n",
       "      <td>2</td>\n",
       "    </tr>\n",
       "  </tbody>\n",
       "</table>\n",
       "<p>2000 rows × 4 columns</p>\n",
       "</div>"
      ],
      "text/plain": [
       "        datetime website page_version actionID\n",
       "0     2020-01-10  taobao       mobile        9\n",
       "1     2020-01-03  Amazon       mobile        2\n",
       "2     2020-01-01  Amazon          app        7\n",
       "3     2020-01-03  Amazon          app        8\n",
       "4     2020-01-07  taobao          app        4\n",
       "...          ...     ...          ...      ...\n",
       "1995  2020-01-06  Amazon          web        2\n",
       "1996  2020-01-07  taobao          app        3\n",
       "1997  2020-01-03  taobao       mobile        1\n",
       "1998  2020-01-07  taobao          app        8\n",
       "1999  2020-01-09  taobao          web        2\n",
       "\n",
       "[2000 rows x 4 columns]"
      ]
     },
     "execution_count": 12,
     "metadata": {},
     "output_type": "execute_result"
    }
   ],
   "source": [
    "df"
   ]
  },
  {
   "cell_type": "code",
   "execution_count": 13,
   "id": "apart-prior",
   "metadata": {},
   "outputs": [],
   "source": [
    "df.to_pickle(\"../Data/web_lod_data.pkl\")"
   ]
  },
  {
   "cell_type": "markdown",
   "id": "leading-algeria",
   "metadata": {},
   "source": [
    "## Generate Search Items on Internal Website"
   ]
  },
  {
   "cell_type": "code",
   "execution_count": 14,
   "id": "virtual-command",
   "metadata": {},
   "outputs": [],
   "source": [
    "letter_li = list(string.ascii_letters)*10\n",
    "weights = np.random.randint(0,10,size=len(letter_li)).tolist()\n",
    "random_letter_li = random.choices(letter_li, weights=weights, k=len(letter_li))"
   ]
  },
  {
   "cell_type": "code",
   "execution_count": 15,
   "id": "incoming-negotiation",
   "metadata": {},
   "outputs": [],
   "source": [
    "word_li = ['詞彙']*len(letter_li)"
   ]
  },
  {
   "cell_type": "code",
   "execution_count": 16,
   "id": "historical-princess",
   "metadata": {},
   "outputs": [],
   "source": [
    "word_li = [word+letter for word, letter in zip(word_li, random_letter_li)]"
   ]
  },
  {
   "cell_type": "code",
   "execution_count": 17,
   "id": "academic-guidance",
   "metadata": {},
   "outputs": [],
   "source": [
    "df = pd.DataFrame(word_li, columns=['keyword'])"
   ]
  },
  {
   "cell_type": "code",
   "execution_count": 18,
   "id": "genetic-married",
   "metadata": {},
   "outputs": [],
   "source": [
    "df.to_pickle(\"../Data/keyword.pkl\")"
   ]
  },
  {
   "cell_type": "code",
   "execution_count": 19,
   "id": "sealed-liverpool",
   "metadata": {},
   "outputs": [
    {
     "data": {
      "text/html": [
       "<div>\n",
       "<style scoped>\n",
       "    .dataframe tbody tr th:only-of-type {\n",
       "        vertical-align: middle;\n",
       "    }\n",
       "\n",
       "    .dataframe tbody tr th {\n",
       "        vertical-align: top;\n",
       "    }\n",
       "\n",
       "    .dataframe thead th {\n",
       "        text-align: right;\n",
       "    }\n",
       "</style>\n",
       "<table border=\"1\" class=\"dataframe\">\n",
       "  <thead>\n",
       "    <tr style=\"text-align: right;\">\n",
       "      <th></th>\n",
       "      <th>keyword</th>\n",
       "    </tr>\n",
       "  </thead>\n",
       "  <tbody>\n",
       "    <tr>\n",
       "      <th>0</th>\n",
       "      <td>詞彙I</td>\n",
       "    </tr>\n",
       "    <tr>\n",
       "      <th>1</th>\n",
       "      <td>詞彙m</td>\n",
       "    </tr>\n",
       "    <tr>\n",
       "      <th>2</th>\n",
       "      <td>詞彙b</td>\n",
       "    </tr>\n",
       "    <tr>\n",
       "      <th>3</th>\n",
       "      <td>詞彙J</td>\n",
       "    </tr>\n",
       "    <tr>\n",
       "      <th>4</th>\n",
       "      <td>詞彙v</td>\n",
       "    </tr>\n",
       "    <tr>\n",
       "      <th>...</th>\n",
       "      <td>...</td>\n",
       "    </tr>\n",
       "    <tr>\n",
       "      <th>515</th>\n",
       "      <td>詞彙z</td>\n",
       "    </tr>\n",
       "    <tr>\n",
       "      <th>516</th>\n",
       "      <td>詞彙w</td>\n",
       "    </tr>\n",
       "    <tr>\n",
       "      <th>517</th>\n",
       "      <td>詞彙m</td>\n",
       "    </tr>\n",
       "    <tr>\n",
       "      <th>518</th>\n",
       "      <td>詞彙B</td>\n",
       "    </tr>\n",
       "    <tr>\n",
       "      <th>519</th>\n",
       "      <td>詞彙c</td>\n",
       "    </tr>\n",
       "  </tbody>\n",
       "</table>\n",
       "<p>520 rows × 1 columns</p>\n",
       "</div>"
      ],
      "text/plain": [
       "    keyword\n",
       "0       詞彙I\n",
       "1       詞彙m\n",
       "2       詞彙b\n",
       "3       詞彙J\n",
       "4       詞彙v\n",
       "..      ...\n",
       "515     詞彙z\n",
       "516     詞彙w\n",
       "517     詞彙m\n",
       "518     詞彙B\n",
       "519     詞彙c\n",
       "\n",
       "[520 rows x 1 columns]"
      ]
     },
     "execution_count": 19,
     "metadata": {},
     "output_type": "execute_result"
    }
   ],
   "source": [
    "df"
   ]
  },
  {
   "cell_type": "code",
   "execution_count": null,
   "id": "deluxe-strike",
   "metadata": {},
   "outputs": [],
   "source": []
  }
 ],
 "metadata": {
  "kernelspec": {
   "display_name": "Python 3",
   "language": "python",
   "name": "python3"
  },
  "language_info": {
   "codemirror_mode": {
    "name": "ipython",
    "version": 3
   },
   "file_extension": ".py",
   "mimetype": "text/x-python",
   "name": "python",
   "nbconvert_exporter": "python",
   "pygments_lexer": "ipython3",
   "version": "3.7.7"
  }
 },
 "nbformat": 4,
 "nbformat_minor": 5
}
